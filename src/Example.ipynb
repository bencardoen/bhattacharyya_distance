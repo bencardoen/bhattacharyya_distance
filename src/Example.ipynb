{
 "cells": [
  {
   "cell_type": "code",
   "execution_count": 2,
   "metadata": {},
   "outputs": [],
   "source": [
    "from bhat.bhat import bhattacharyya"
   ]
  },
  {
   "cell_type": "code",
   "execution_count": 4,
   "metadata": {},
   "outputs": [],
   "source": [
    "import numpy as np\n",
    "import matplotlib.pyplot as plt\n",
    "import seaborn as sns\n",
    "import pandas as pd\n",
    "import scipy.stats"
   ]
  },
  {
   "cell_type": "code",
   "execution_count": 6,
   "metadata": {},
   "outputs": [],
   "source": [
    "np.random.seed(42)\n",
    "mean = np.array([100, 100])\n",
    "cov = np.array([[1, 0], [0, 1]])  # diagonal covariance\n",
    "\n",
    "\n",
    "\n",
    "ms = []\n",
    "rs = []\n",
    "XGT = np.random.multivariate_normal(mean, cov, 1000)\n",
    "for i in range(100):\n",
    "    X = np.random.multivariate_normal(mean, cov, 1000)\n",
    "    Y = np.random.multivariate_normal(mean+(i), cov, 1000)\n",
    "    R = np.random.random((1000, 2)) * 1\n",
    "    ms.append(bhattacharyya(X,Y))\n",
    "    rs.append(bhattacharyya(X,R))\n",
    "    "
   ]
  },
  {
   "cell_type": "code",
   "execution_count": 15,
   "metadata": {},
   "outputs": [
    {
     "ename": "SyntaxError",
     "evalue": "positional argument follows keyword argument (<ipython-input-15-9931876a1c94>, line 1)",
     "output_type": "error",
     "traceback": [
      "\u001b[0;36m  File \u001b[0;32m\"<ipython-input-15-9931876a1c94>\"\u001b[0;36m, line \u001b[0;32m1\u001b[0m\n\u001b[0;31m    sns.scatterplot(x=[i for i in range(100)], y=ms, color='g', 'Divering mean')\u001b[0m\n\u001b[0m                                                               ^\u001b[0m\n\u001b[0;31mSyntaxError\u001b[0m\u001b[0;31m:\u001b[0m positional argument follows keyword argument\n"
     ]
    }
   ],
   "source": [
    "sns.scatterplot(x=[i for i in range(100)], y=ms, color='g', label='Diveriing mean')\n",
    "sns.scatterplot(x=[i for i in range(100)], y=rs, color='r', label='Random')\n",
    "plt.xlabel(\"Mean + x\")\n",
    "plt.ylbel(\"Distance\")"
   ]
  },
  {
   "cell_type": "code",
   "execution_count": null,
   "metadata": {},
   "outputs": [],
   "source": []
  }
 ],
 "metadata": {
  "@webio": {
   "lastCommId": null,
   "lastKernelId": null
  },
  "kernelspec": {
   "display_name": "Python 3",
   "language": "python",
   "name": "python3"
  }
 },
 "nbformat": 4,
 "nbformat_minor": 2
}
